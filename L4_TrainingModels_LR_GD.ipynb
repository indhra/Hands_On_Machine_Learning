{
 "cells": [
  {
   "cell_type": "markdown",
   "metadata": {},
   "source": [
    "**Table of contents**<a id='toc0_'></a>    \n",
    "- [Notes / Summary](#toc1_)    \n",
    "- [Required Libraries](#toc2_)    \n",
    "- [Linear Regression](#toc3_)    \n",
    "  - [the normal equation](#toc3_1_)    \n",
    "  - [SVD - singular value decomposition & pseudoinverse](#toc3_2_)    \n",
    "  - [Computational complexity](#toc3_3_)    \n",
    "- [Gradient Descent](#toc4_)    \n",
    "  - [Batch Gradient Descent](#toc4_1_)    \n",
    "  - [Stochastic Gradient Descent (SGD)](#toc4_2_)    \n",
    "    - [learning schedule](#toc4_2_1_)    \n",
    "  - [Mini batch Gradient Descent](#toc4_3_)    \n",
    "- [Polynomial Regression](#toc5_)    \n",
    "- [Learning Curves](#toc6_)    \n",
    "- [Bias, Variance, Irreducible error](#toc7_)    \n",
    "- [Regularized Linear Models](#toc8_)    \n",
    "- [Ridge Regression](#toc9_)    \n",
    "- [Lasso Regression](#toc10_)    \n",
    "- [Early Stopping](#toc11_)    \n",
    "- [Logistic Regression](#toc12_)    \n",
    "  - [Decision Boundaries](#toc12_1_)    \n",
    "- [Softmax Regression](#toc13_)    \n",
    "- [Exercises](#toc14_)    \n",
    "\n",
    "<!-- vscode-jupyter-toc-config\n",
    "\tnumbering=false\n",
    "\tanchor=true\n",
    "\tflat=false\n",
    "\tminLevel=1\n",
    "\tmaxLevel=6\n",
    "\t/vscode-jupyter-toc-config -->\n",
    "<!-- THIS CELL WILL BE REPLACED ON TOC UPDATE. DO NOT WRITE YOUR TEXT IN THIS CELL -->"
   ]
  },
  {
   "cell_type": "markdown",
   "metadata": {},
   "source": [
    "# <a id='toc1_'></a>[Notes / Summary](#toc0_)"
   ]
  },
  {
   "cell_type": "markdown",
   "metadata": {},
   "source": [
    "1. Having a good understanding of how things work can help you quickly home in on the appropriate model \\\n",
    "the right algorithm to use, and a agood set of hyperparameters for your task.\n",
    "2. understanding what's under the hood will also help you debug issues and perform error analysis more efficiently.\n",
    "3. lastly most of the topics discussed in this chapter will be essential in understanding, building and training NN\n",
    "\n",
    "\n",
    "* On top of linear regression, we have polynomial regression, a more complex model that can fit nonline datasets.\n",
    "* since this model has more parameters than linear regression, it is more prone to overfitting the training data.\n",
    "* to check whether or not this is the case by using learning curves, and then we can use regularization to prevent overifiting\n"
   ]
  },
  {
   "cell_type": "markdown",
   "metadata": {},
   "source": [
    "* learning algorithms will often optimize a different loss function during training than the performance measure used\n",
    "* to evaluate the final model. this is generally because the function is easier to optimize and/or because \n",
    "* it has extra terms needed during training only e.g. for regularization\n",
    "* A good performance metric is as close as possible to the final business objective.\n",
    "* A good training loss is easy to optimize and strongly correlated with the metric\n",
    "* For example, classifiers are often trained using a cost fucntion such as the log loss, but \n",
    "* evaluated using precision/recall. \n",
    "* The log lossis easy to minimize, and doing so weill usually improve precision / recall"
   ]
  },
  {
   "cell_type": "markdown",
   "metadata": {},
   "source": [
    "# <a id='toc2_'></a>[Required Libraries](#toc0_)"
   ]
  },
  {
   "cell_type": "code",
   "execution_count": 33,
   "metadata": {},
   "outputs": [],
   "source": [
    "import  numpy as np "
   ]
  },
  {
   "cell_type": "code",
   "execution_count": null,
   "metadata": {},
   "outputs": [],
   "source": [
    "RS = 143 # random state"
   ]
  },
  {
   "cell_type": "markdown",
   "metadata": {},
   "source": [
    "# <a id='toc3_'></a>[Linear Regression](#toc0_)\n",
    "\n",
    "Equation :    \n",
    "![image.png](attachment:image.png)\n",
    "\n",
    "Vectorized equation:\\\n",
    "![image-2.png](attachment:image-2.png)\n",
    "\n",
    "* to train a linear regression model, we need to find the value of theta that minimizes the RMSE\n",
    "* in practise it is simpler to minimize the mean squared error (MSE) than the RMSE and it leads to the same result\n",
    "* (becasue the value that minimizes a positive function also minimizes its square root)\\\n",
    "\\\n",
    "Normal equation: to find the value of theta that minimizes the MSE there exisats a closed form solution, math eqn.\\\n",
    "![image-3.png](attachment:image-3.png)\n",
    "\n"
   ]
  },
  {
   "cell_type": "markdown",
   "metadata": {},
   "source": [
    "## <a id='toc3_1_'></a>[the normal equation](#toc0_)"
   ]
  },
  {
   "cell_type": "code",
   "execution_count": 35,
   "metadata": {},
   "outputs": [],
   "source": [
    "np.random.seed(143) # to make this code example reproducible\n",
    "num = 100 # number of instances\n",
    "x = 2 * np.random.rand(num, 1) # column vector \n",
    "y = 4 + 3 * x + np.random.randn(num, 1 ) # column vector\n"
   ]
  },
  {
   "cell_type": "code",
   "execution_count": 36,
   "metadata": {},
   "outputs": [
    {
     "data": {
      "text/plain": [
       "array([[3.98476171],\n",
       "       [3.09535726]])"
      ]
     },
     "execution_count": 36,
     "metadata": {},
     "output_type": "execute_result"
    }
   ],
   "source": [
    "## now lets compute theta using normal equation\n",
    "\n",
    "from sklearn.preprocessing import  add_dummy_feature \n",
    "x_b = add_dummy_feature(x)\n",
    "theta = np.matmul(np.matmul(np.linalg.inv(np.matmul(x_b.T, x_b)), x_b.T), y)\n",
    "# theta = np.linalg.inv(x_b.T @ x_b) @ x_b.T @ y ## above and this line both are the same in diff. reprsentations\n",
    "theta"
   ]
  },
  {
   "cell_type": "markdown",
   "metadata": {},
   "source": [
    "* the function we used to generate the data is y = 4 + 3x1 + gaussian noise\n",
    "\n",
    "* theta generated is ; theta0 is 3.98, theta1 is 3.09, close to the acutal values of 4 and 3 \n",
    "* it will never be same due to the gaussian noise, this made impossible to recover the exact parameters of the original function\n",
    "* the smaller and noisier the dataset, the harder it gets"
   ]
  },
  {
   "cell_type": "code",
   "execution_count": 37,
   "metadata": {},
   "outputs": [
    {
     "data": {
      "text/plain": [
       "array([[ 3.98476171],\n",
       "       [10.17547623]])"
      ]
     },
     "execution_count": 37,
     "metadata": {},
     "output_type": "execute_result"
    }
   ],
   "source": [
    "## now using the theta from above, lets predict some values\n",
    "\n",
    "x_new = np.array([[0], [2]])\n",
    "x_newb = add_dummy_feature(x_new)\n",
    "y_predict = x_newb @ theta\n",
    "y_predict"
   ]
  },
  {
   "cell_type": "code",
   "execution_count": 38,
   "metadata": {},
   "outputs": [
    {
     "data": {
      "image/png": "[encoded data removed]",
      "text/plain": [
       "<Figure size 640x480 with 1 Axes>"
      ]
     },
     "metadata": {},
     "output_type": "display_data"
    }
   ],
   "source": [
    "# lets plot the above \n",
    "\n",
    "import matplotlib.pyplot as plt\n",
    "\n",
    "plt.plot(x_new, y_predict, 'ob--', label='new_predictions')\n",
    "plt.plot(x, y, 'r*', label='train_data')\n",
    "plt.legend()\n",
    "plt.show()"
   ]
  },
  {
   "cell_type": "markdown",
   "metadata": {},
   "source": [
    "Performing linear regression using scikit"
   ]
  },
  {
   "cell_type": "code",
   "execution_count": 39,
   "metadata": {},
   "outputs": [
    {
     "data": {
      "text/plain": [
       "(array([3.98476171]), array([[3.09535726]]))"
      ]
     },
     "execution_count": 39,
     "metadata": {},
     "output_type": "execute_result"
    }
   ],
   "source": [
    "from sklearn.linear_model import LinearRegression\n",
    "\n",
    "lin_reg = LinearRegression()\n",
    "lin_reg.fit(x, y)\n",
    "lin_reg.intercept_, lin_reg.coef_"
   ]
  },
  {
   "cell_type": "code",
   "execution_count": null,
   "metadata": {},
   "outputs": [
    {
     "data": {
      "text/plain": [
       "array([[ 3.98476171],\n",
       "       [10.17547623]])"
      ]
     },
     "execution_count": 40,
     "metadata": {},
     "output_type": "execute_result"
    }
   ],
   "source": [
    "lin_reg.predict(x_new)"
   ]
  },
  {
   "cell_type": "markdown",
   "metadata": {},
   "source": [
    "## <a id='toc3_2_'></a>[SVD - singular value decomposition & pseudoinverse](#toc0_)\n",
    "* the above linear regression class from scikit learn uses pseudoinversel due to less time complexity\n",
    "* the pseudoinverse itself is computed using a standard matrix factorization technique called singular value decomposition - SVD"
   ]
  },
  {
   "cell_type": "markdown",
   "metadata": {},
   "source": [
    "## <a id='toc3_3_'></a>[Computational complexity](#toc0_)\n",
    "* the normal equation , if you double the number of features, you multiply \\\n",
    "the computation **time by 8 times**\n",
    "* using SVD / pseudoinverse method it will be **4 times**"
   ]
  },
  {
   "cell_type": "markdown",
   "metadata": {},
   "source": [
    "# <a id='toc4_'></a>[Gradient Descent](#toc0_)\n",
    "* Due to above time complexities, we try different methods to train a linear regression model\n",
    "* This is better suited for cases where there are a larger number of featrues or too many data points\n",
    "* Gradient Descent is an optimization algorithm used to minimize the cost function\n",
    "* **what gradient descent does: it measures the local gradient of the error fucniton wrto parameter theta.**\n",
    "\n",
    "* In practice, you start by filling θ with random values (this is called random initiali‐\\\n",
    "zation). Then you improve it gradually, taking one baby step at a time, each step\\\n",
    "attempting to decrease the cost function (e.g., the MSE), until the algorithm converges\n",
    "to a minimum\n"
   ]
  },
  {
   "cell_type": "markdown",
   "metadata": {},
   "source": [
    "* In gradient descent, the size of steps is the learning reat hyperparameter\n",
    "* to small step and it will take a long time to converge\n",
    "* to large step and it will overshoot the curves and sometimes it may never reach global minumum\n",
    "* **two main challenges in gradient descent is 1.local minimum 2. Plateau**\n",
    "\n",
    "\n",
    "* Fortunately, the MSE cost function for a linear regression model happens to be a\\\n",
    "convex function, which means that if you pick any two points on the curve, the line\\\n",
    "segment joining them is never below the curve. This implies that there are no local\\\n",
    "minima, just one global minimum. It is also a continuous function with a slope that\\\n",
    "never changes abruptly.2 These two facts have a great consequence: gradient descent\\\n",
    "is guaranteed to approach arbitrarily closely the global minimum (if you wait long\\\n",
    "enough and if the learning rate is not too high)\\\n"
   ]
  },
  {
   "cell_type": "markdown",
   "metadata": {},
   "source": [
    "* the cost function has the shape of a bowl, it can be an elongated bowl if the features have very different scales.\n",
    "\n",
    "![image.png](attachment:image.png)\n",
    "* left we can see gradient descent algorithm directly goes towards the minimum\n",
    "* right side , it first goes in orthogonal direction to the global minimum and then changes towards the minimum.\n",
    "* **when using gradient descent you should ensure that all features have a similar scale**\n",
    "\n",
    "! **training a model means searching for a combination of model parameters that minimizes the cost function.**"
   ]
  },
  {
   "cell_type": "markdown",
   "metadata": {},
   "source": [
    "## <a id='toc4_1_'></a>[Batch Gradient Descent](#toc0_)\n",
    "* To implement gradient descent, you need to compute the gradient of the cost func‐\\\n",
    "tion with regard to each model parameter θj. In other words, you need to calculate\\\n",
    "how much the cost function will change if you change θj just a little bit. This is called\\\n",
    "a partial derivative. It is like asking, “What is the slope of the mountain under my\\\n",
    "feet if I face east”? and then asking the same question facing north \\\n",
    "\n",
    "![image.png](attachment:image.png)\n",
    "* Notice that this formula involves calculations over the full training\\\n",
    "set X, at each gradient descent step! This is why the algorithm is\\\n",
    "called batch gradient descent: it uses the whole batch of training\\\n",
    "data at every step   \n",
    "* As a result, it is terribly slow on very large\n",
    "training sets. \n",
    "* However, gradient descent scales well with the\\\n",
    "number of features; training a linear regression model when there\\\n",
    "are hundreds of thousands of features is much faster using gradient\\\n",
    "descent than using the Normal equation or SVD decomposition.\n",
    "\n",
    "![image-2.png](attachment:image-2.png)\n"
   ]
  },
  {
   "cell_type": "code",
   "execution_count": 41,
   "metadata": {},
   "outputs": [
    {
     "data": {
      "text/plain": [
       "array([[3.98476171],\n",
       "       [3.09535726]])"
      ]
     },
     "execution_count": 41,
     "metadata": {},
     "output_type": "execute_result"
    }
   ],
   "source": [
    "# BGD implementation\n",
    "\n",
    "eta = 0.1 # learningrate\n",
    "n_epocsh = 1000 # number of epochs; \n",
    "m = len(x_b)\n",
    "\n",
    "np.random.seed(143)\n",
    "theta = np.random.randn(2,1)\n",
    "\n",
    "for epoch in range(n_epocsh):\n",
    "    gradients = 2 / m * x_b.T @ ( x_b @ theta -y )\n",
    "    theta = theta -eta* gradients # next step theta\n",
    "theta\n",
    "\n",
    "## the result almost similar to the normal equation and SVD implementation"
   ]
  },
  {
   "cell_type": "markdown",
   "metadata": {},
   "source": [
    "* To find a good learning rate, you can use grid search, However, you \\\n",
    "may want to limit the number of epochs so that grid search can eliminate models that\n",
    "take too long to converge.\\\n",
    "\n",
    "* how to set the number of epochs. If it is too low, you will still be\\\n",
    "far away from the optimal solution when the algorithm stops; but if it is too high,\\\n",
    "you will waste time while the model parameters do not change anymore. \n",
    "* A simple solution is to set a very large number of epochs but to interrupt the algorithm when\\\n",
    "the gradient vector becomes tiny—that is, when its norm becomes smaller than a\\\n",
    "**tiny number ϵ (called the tolerance)**—because this happens when gradient descent has\n",
    "(almost) reached the minimum."
   ]
  },
  {
   "cell_type": "markdown",
   "metadata": {},
   "source": [
    "## <a id='toc4_2_'></a>[Stochastic Gradient Descent (SGD)](#toc0_)\n",
    "\n",
    "* stochastic gradient descent picks a\\\n",
    "random instance in the training set at every step and computes the gradients based\\\n",
    "only on that single instance. \n",
    "* Obviously, working on a single instance at a time makes\\\n",
    "the algorithm much faster because it has very little data to manipulate at every\n",
    "iteration. \n",
    "* It also makes it possible to train on huge training sets, since only one\n",
    "instance needs to be in memory at each iteration\n",
    "* **the final parameter values will be good, but not optimal.**\n",
    "\n",
    "* With stochastic gradient descent, each training step is much faster but also\n",
    "much more stochastic than when using batch gradient descent\n",
    "* when cost function is very irregular, then SGD has a better chance of finding the global minimum than batch gradient descent\n",
    "* randomness is good to escape local minimum, but it will never settle at the global minimum\n",
    "* here we can gradually reduce the learning rate.\n",
    "* the steps start out large then get smaller and smaller alloweing the algorithm to settle at the global minimum\n",
    "* **this is called simulated annealing, the function that determines the learning rate at each iteration is learning schedule.**"
   ]
  },
  {
   "cell_type": "markdown",
   "metadata": {},
   "source": [
    "### <a id='toc4_2_1_'></a>[learning schedule](#toc0_)"
   ]
  },
  {
   "cell_type": "code",
   "execution_count": 42,
   "metadata": {},
   "outputs": [],
   "source": [
    "n_epochs = 50\n",
    "t0, t1 = 5,50 # learning schedule hyperparameters\n",
    "\n",
    "def learning_schedule(t):\n",
    "    return t0/(t + t1)\n",
    "\n",
    "theta = np.random.randn(2,1)\n",
    "\n",
    "for epoch in range(n_epochs):\n",
    "    for iteration in range(m):\n",
    "        random_index = np.random.randint(m)\n",
    "        xi = x_b[random_index:random_index+1]\n",
    "        yi = y[random_index:random_index+1]\n",
    "        # gradient descent\n",
    "        gradients = 2 * xi.T @ (xi @ theta - yi)\n",
    "        eta = learning_schedule(epoch *m + iteration)\n",
    "        theta = theta - eta * gradients\n",
    "        \n"
   ]
  },
  {
   "cell_type": "markdown",
   "metadata": {},
   "source": [
    "* Note that since instances are picked randomly, some instances may be picked several\\\n",
    "times per epoch, while others may not be picked at all\n",
    "\n",
    "\n",
    "* If you do not shuffle\n",
    "the instances—for example, if the instances are sorted by label—\\\n",
    "then SGD will start by optimizing for one label, then the next, and\\\n",
    "so on, and it will not settle close to the global minimum."
   ]
  },
  {
   "cell_type": "code",
   "execution_count": null,
   "metadata": {},
   "outputs": [
    {
     "data": {
      "text/plain": [
       "(array([3.98551609]), array([3.09605942]))"
      ]
     },
     "execution_count": 43,
     "metadata": {},
     "output_type": "execute_result"
    }
   ],
   "source": [
    "# SGD regression from scikit\n",
    "from sklearn.linear_model import SGDRegressor\n",
    "\n",
    "sgd_regr = SGDRegressor(max_iter=1000, tol=1e-5, penalty=None, eta0=0.01, \n",
    "                        n_iter_no_change=100, random_state=RS)\n",
    "sgd_regr.fit(x, y.ravel())\n",
    "sgd_regr.intercept_, sgd_regr.coef_"
   ]
  },
  {
   "cell_type": "markdown",
   "metadata": {},
   "source": [
    "## <a id='toc4_3_'></a>[Mini batch Gradient Descent](#toc0_)\n",
    "* mini-batch GD com‐putes the gradients on small random sets of instances called mini-batches. \n",
    "* The main advantage of mini-batch GD over stochastic GD is that you can get a performance\\\n",
    "boost from hardware optimization of matrix operations, especially when using GPUs.\n",
    "* mini-batch GD will end up walking around a bit closer to the minimum \n",
    "* than stochastic GD—but it may be harder for it to escape from local minima\n",
    "\n",
    "![image.png](attachment:image.png)"
   ]
  },
  {
   "cell_type": "markdown",
   "metadata": {},
   "source": [
    "# <a id='toc5_'></a>[Polynomial Regression](#toc0_)\n",
    "* Using a linear model to fit nonlinear data. A simple way to do this is to add powers of each\\\n",
    "feature as new features, then train a linear model on this extended set of features. This\\\n",
    "technique is called polynomial regression.\n",
    "\n",
    "* use Scikit-Learn’s PolynomialFeatures class to transform our training data, adding the square (second- \\\n",
    "degree polynomial) of each feature in the training set as a new feature "
   ]
  },
  {
   "cell_type": "code",
   "execution_count": 44,
   "metadata": {},
   "outputs": [],
   "source": [
    "m = 100\n",
    "x = 6 * np.random.rand(m,1) - 3\n",
    "y = 0.5 * x ** 2 + x + 2 + np.random.randn(m,1)\n",
    "\n",
    "from sklearn.preprocessing import PolynomialFeatures\n",
    "poly_features = PolynomialFeatures(degree=2, include_bias=False)\n",
    "\n",
    "xpoly = poly_features.fit_transform(x)"
   ]
  },
  {
   "cell_type": "code",
   "execution_count": 45,
   "metadata": {},
   "outputs": [
    {
     "data": {
      "text/plain": [
       "(array([1.61740614]), array([[1.02288352, 0.5717096 ]]))"
      ]
     },
     "execution_count": 45,
     "metadata": {},
     "output_type": "execute_result"
    }
   ],
   "source": [
    "lin_reg = LinearRegression()\n",
    "lin_reg.fit(xpoly, y)\n",
    "lin_reg.intercept_, lin_reg.coef_\n"
   ]
  },
  {
   "cell_type": "markdown",
   "metadata": {},
   "source": [
    "Beware of the\n",
    "combinatorial explosion of the number of features!"
   ]
  },
  {
   "cell_type": "markdown",
   "metadata": {},
   "source": [
    "# <a id='toc6_'></a>[Learning Curves](#toc0_)\n",
    "* This high-degree polynomial regression model is severely overfitting the training\\\n",
    "data, while the linear model is underfitting it. The model that will generalize best in\\\n",
    "this case is the quadratic model, which makes sense because the data was generated\\\n",
    "using a quadratic model. \n",
    "\n",
    "* **If a model performs well on the training data but generalizes poorly\\\n",
    "according to the cross-validation metrics, then your model is overfitting. If it per‐\\\n",
    "forms poorly on both, then it is underfitting.**\n",
    "\n",
    "* Another way to tell is to look at the learning curves, which are plots of the model’s\\\n",
    "training error and validation error as a function of the training iteration: just evaluate\\\n",
    "the model at regular intervals during training on both the training set and the\\\n",
    "validation set, and plot the results."
   ]
  },
  {
   "cell_type": "code",
   "execution_count": 46,
   "metadata": {},
   "outputs": [
    {
     "data": {
      "image/png": "[encoded data removed]",
      "text/plain": [
       "<Figure size 640x480 with 1 Axes>"
      ]
     },
     "metadata": {},
     "output_type": "display_data"
    }
   ],
   "source": [
    "from sklearn.model_selection import learning_curve\n",
    "\n",
    "trainsizes, trainscores, validscoers = learning_curve(\n",
    "    LinearRegression(), x, y, train_sizes=np.linspace(0.01,1.0,40), cv=5, n_jobs=-1, \n",
    "    scoring='neg_root_mean_squared_error')\n",
    "trainerrors = -trainscores.mean(axis=1)\n",
    "validerrrors = -validscoers.mean(axis=1)\n",
    "\n",
    "plt.plot(trainsizes, trainerrors, 'r-+', linewidth=2, label='Training error')\n",
    "plt.plot(trainsizes, validerrrors,'b-', linewidth=3, label='validation error')\n",
    "plt.legend()\n",
    "plt.ylabel('rmse')\n",
    "plt.xlabel('training set size')\n",
    "plt.show()"
   ]
  },
  {
   "cell_type": "markdown",
   "metadata": {},
   "source": [
    "* the above model is underfitting.\n",
    "\n",
    "* **If your model is underfitting the training data, adding more train‐\\\n",
    "ing examples will not help. You need to use a better model or come up with better features.**\n",
    "\n"
   ]
  },
  {
   "cell_type": "code",
   "execution_count": 47,
   "metadata": {},
   "outputs": [
    {
     "data": {
      "text/html": [
       "<style>#sk-container-id-2 {\n",
       "  /* Definition of color scheme common for light and dark mode */\n",
       "  --sklearn-color-text: #000;\n",
       "  --sklearn-color-text-muted: #666;\n",
       "  --sklearn-color-line: gray;\n",
       "  /* Definition of color scheme for unfitted estimators */\n",
       "  --sklearn-color-unfitted-level-0: #fff5e6;\n",
       "  --sklearn-color-unfitted-level-1: #f6e4d2;\n",
       "  --sklearn-color-unfitted-level-2: #ffe0b3;\n",
       "  --sklearn-color-unfitted-level-3: chocolate;\n",
       "  /* Definition of color scheme for fitted estimators */\n",
       "  --sklearn-color-fitted-level-0: #f0f8ff;\n",
       "  --sklearn-color-fitted-level-1: #d4ebff;\n",
       "  --sklearn-color-fitted-level-2: #b3dbfd;\n",
       "  --sklearn-color-fitted-level-3: cornflowerblue;\n",
       "\n",
       "  /* Specific color for light theme */\n",
       "  --sklearn-color-text-on-default-background: var(--sg-text-color, var(--theme-code-foreground, var(--jp-content-font-color1, black)));\n",
       "  --sklearn-color-background: var(--sg-background-color, var(--theme-background, var(--jp-layout-color0, white)));\n",
       "  --sklearn-color-border-box: var(--sg-text-color, var(--theme-code-foreground, var(--jp-content-font-color1, black)));\n",
       "  --sklearn-color-icon: #696969;\n",
       "\n",
       "  @media (prefers-color-scheme: dark) {\n",
       "    /* Redefinition of color scheme for dark theme */\n",
       "    --sklearn-color-text-on-default-background: var(--sg-text-color, var(--theme-code-foreground, var(--jp-content-font-color1, white)));\n",
       "    --sklearn-color-background: var(--sg-background-color, var(--theme-background, var(--jp-layout-color0, #111)));\n",
       "    --sklearn-color-border-box: var(--sg-text-color, var(--theme-code-foreground, var(--jp-content-font-color1, white)));\n",
       "    --sklearn-color-icon: #878787;\n",
       "  }\n",
       "}\n",
       "\n",
       "#sk-container-id-2 {\n",
       "  color: var(--sklearn-color-text);\n",
       "}\n",
       "\n",
       "#sk-container-id-2 pre {\n",
       "  padding: 0;\n",
       "}\n",
       "\n",
       "#sk-container-id-2 input.sk-hidden--visually {\n",
       "  border: 0;\n",
       "  clip: rect(1px 1px 1px 1px);\n",
       "  clip: rect(1px, 1px, 1px, 1px);\n",
       "  height: 1px;\n",
       "  margin: -1px;\n",
       "  overflow: hidden;\n",
       "  padding: 0;\n",
       "  position: absolute;\n",
       "  width: 1px;\n",
       "}\n",
       "\n",
       "#sk-container-id-2 div.sk-dashed-wrapped {\n",
       "  border: 1px dashed var(--sklearn-color-line);\n",
       "  margin: 0 0.4em 0.5em 0.4em;\n",
       "  box-sizing: border-box;\n",
       "  padding-bottom: 0.4em;\n",
       "  background-color: var(--sklearn-color-background);\n",
       "}\n",
       "\n",
       "#sk-container-id-2 div.sk-container {\n",
       "  /* jupyter's `normalize.less` sets `[hidden] { display: none; }`\n",
       "     but bootstrap.min.css set `[hidden] { display: none !important; }`\n",
       "     so we also need the `!important` here to be able to override the\n",
       "     default hidden behavior on the sphinx rendered scikit-learn.org.\n",
       "     See: https://github.com/scikit-learn/scikit-learn/issues/21755 */\n",
       "  display: inline-block !important;\n",
       "  position: relative;\n",
       "}\n",
       "\n",
       "#sk-container-id-2 div.sk-text-repr-fallback {\n",
       "  display: none;\n",
       "}\n",
       "\n",
       "div.sk-parallel-item,\n",
       "div.sk-serial,\n",
       "div.sk-item {\n",
       "  /* draw centered vertical line to link estimators */\n",
       "  background-image: linear-gradient(var(--sklearn-color-text-on-default-background), var(--sklearn-color-text-on-default-background));\n",
       "  background-size: 2px 100%;\n",
       "  background-repeat: no-repeat;\n",
       "  background-position: center center;\n",
       "}\n",
       "\n",
       "/* Parallel-specific style estimator block */\n",
       "\n",
       "#sk-container-id-2 div.sk-parallel-item::after {\n",
       "  content: \"\";\n",
       "  width: 100%;\n",
       "  border-bottom: 2px solid var(--sklearn-color-text-on-default-background);\n",
       "  flex-grow: 1;\n",
       "}\n",
       "\n",
       "#sk-container-id-2 div.sk-parallel {\n",
       "  display: flex;\n",
       "  align-items: stretch;\n",
       "  justify-content: center;\n",
       "  background-color: var(--sklearn-color-background);\n",
       "  position: relative;\n",
       "}\n",
       "\n",
       "#sk-container-id-2 div.sk-parallel-item {\n",
       "  display: flex;\n",
       "  flex-direction: column;\n",
       "}\n",
       "\n",
       "#sk-container-id-2 div.sk-parallel-item:first-child::after {\n",
       "  align-self: flex-end;\n",
       "  width: 50%;\n",
       "}\n",
       "\n",
       "#sk-container-id-2 div.sk-parallel-item:last-child::after {\n",
       "  align-self: flex-start;\n",
       "  width: 50%;\n",
       "}\n",
       "\n",
       "#sk-container-id-2 div.sk-parallel-item:only-child::after {\n",
       "  width: 0;\n",
       "}\n",
       "\n",
       "/* Serial-specific style estimator block */\n",
       "\n",
       "#sk-container-id-2 div.sk-serial {\n",
       "  display: flex;\n",
       "  flex-direction: column;\n",
       "  align-items: center;\n",
       "  background-color: var(--sklearn-color-background);\n",
       "  padding-right: 1em;\n",
       "  padding-left: 1em;\n",
       "}\n",
       "\n",
       "\n",
       "/* Toggleable style: style used for estimator/Pipeline/ColumnTransformer box that is\n",
       "clickable and can be expanded/collapsed.\n",
       "- Pipeline and ColumnTransformer use this feature and define the default style\n",
       "- Estimators will overwrite some part of the style using the `sk-estimator` class\n",
       "*/\n",
       "\n",
       "/* Pipeline and ColumnTransformer style (default) */\n",
       "\n",
       "#sk-container-id-2 div.sk-toggleable {\n",
       "  /* Default theme specific background. It is overwritten whether we have a\n",
       "  specific estimator or a Pipeline/ColumnTransformer */\n",
       "  background-color: var(--sklearn-color-background);\n",
       "}\n",
       "\n",
       "/* Toggleable label */\n",
       "#sk-container-id-2 label.sk-toggleable__label {\n",
       "  cursor: pointer;\n",
       "  display: flex;\n",
       "  width: 100%;\n",
       "  margin-bottom: 0;\n",
       "  padding: 0.5em;\n",
       "  box-sizing: border-box;\n",
       "  text-align: center;\n",
       "  align-items: start;\n",
       "  justify-content: space-between;\n",
       "  gap: 0.5em;\n",
       "}\n",
       "\n",
       "#sk-container-id-2 label.sk-toggleable__label .caption {\n",
       "  font-size: 0.6rem;\n",
       "  font-weight: lighter;\n",
       "  color: var(--sklearn-color-text-muted);\n",
       "}\n",
       "\n",
       "#sk-container-id-2 label.sk-toggleable__label-arrow:before {\n",
       "  /* Arrow on the left of the label */\n",
       "  content: \"▸\";\n",
       "  float: left;\n",
       "  margin-right: 0.25em;\n",
       "  color: var(--sklearn-color-icon);\n",
       "}\n",
       "\n",
       "#sk-container-id-2 label.sk-toggleable__label-arrow:hover:before {\n",
       "  color: var(--sklearn-color-text);\n",
       "}\n",
       "\n",
       "/* Toggleable content - dropdown */\n",
       "\n",
       "#sk-container-id-2 div.sk-toggleable__content {\n",
       "  max-height: 0;\n",
       "  max-width: 0;\n",
       "  overflow: hidden;\n",
       "  text-align: left;\n",
       "  /* unfitted */\n",
       "  background-color: var(--sklearn-color-unfitted-level-0);\n",
       "}\n",
       "\n",
       "#sk-container-id-2 div.sk-toggleable__content.fitted {\n",
       "  /* fitted */\n",
       "  background-color: var(--sklearn-color-fitted-level-0);\n",
       "}\n",
       "\n",
       "#sk-container-id-2 div.sk-toggleable__content pre {\n",
       "  margin: 0.2em;\n",
       "  border-radius: 0.25em;\n",
       "  color: var(--sklearn-color-text);\n",
       "  /* unfitted */\n",
       "  background-color: var(--sklearn-color-unfitted-level-0);\n",
       "}\n",
       "\n",
       "#sk-container-id-2 div.sk-toggleable__content.fitted pre {\n",
       "  /* unfitted */\n",
       "  background-color: var(--sklearn-color-fitted-level-0);\n",
       "}\n",
       "\n",
       "#sk-container-id-2 input.sk-toggleable__control:checked~div.sk-toggleable__content {\n",
       "  /* Expand drop-down */\n",
       "  max-height: 200px;\n",
       "  max-width: 100%;\n",
       "  overflow: auto;\n",
       "}\n",
       "\n",
       "#sk-container-id-2 input.sk-toggleable__control:checked~label.sk-toggleable__label-arrow:before {\n",
       "  content: \"▾\";\n",
       "}\n",
       "\n",
       "/* Pipeline/ColumnTransformer-specific style */\n",
       "\n",
       "#sk-container-id-2 div.sk-label input.sk-toggleable__control:checked~label.sk-toggleable__label {\n",
       "  color: var(--sklearn-color-text);\n",
       "  background-color: var(--sklearn-color-unfitted-level-2);\n",
       "}\n",
       "\n",
       "#sk-container-id-2 div.sk-label.fitted input.sk-toggleable__control:checked~label.sk-toggleable__label {\n",
       "  background-color: var(--sklearn-color-fitted-level-2);\n",
       "}\n",
       "\n",
       "/* Estimator-specific style */\n",
       "\n",
       "/* Colorize estimator box */\n",
       "#sk-container-id-2 div.sk-estimator input.sk-toggleable__control:checked~label.sk-toggleable__label {\n",
       "  /* unfitted */\n",
       "  background-color: var(--sklearn-color-unfitted-level-2);\n",
       "}\n",
       "\n",
       "#sk-container-id-2 div.sk-estimator.fitted input.sk-toggleable__control:checked~label.sk-toggleable__label {\n",
       "  /* fitted */\n",
       "  background-color: var(--sklearn-color-fitted-level-2);\n",
       "}\n",
       "\n",
       "#sk-container-id-2 div.sk-label label.sk-toggleable__label,\n",
       "#sk-container-id-2 div.sk-label label {\n",
       "  /* The background is the default theme color */\n",
       "  color: var(--sklearn-color-text-on-default-background);\n",
       "}\n",
       "\n",
       "/* On hover, darken the color of the background */\n",
       "#sk-container-id-2 div.sk-label:hover label.sk-toggleable__label {\n",
       "  color: var(--sklearn-color-text);\n",
       "  background-color: var(--sklearn-color-unfitted-level-2);\n",
       "}\n",
       "\n",
       "/* Label box, darken color on hover, fitted */\n",
       "#sk-container-id-2 div.sk-label.fitted:hover label.sk-toggleable__label.fitted {\n",
       "  color: var(--sklearn-color-text);\n",
       "  background-color: var(--sklearn-color-fitted-level-2);\n",
       "}\n",
       "\n",
       "/* Estimator label */\n",
       "\n",
       "#sk-container-id-2 div.sk-label label {\n",
       "  font-family: monospace;\n",
       "  font-weight: bold;\n",
       "  display: inline-block;\n",
       "  line-height: 1.2em;\n",
       "}\n",
       "\n",
       "#sk-container-id-2 div.sk-label-container {\n",
       "  text-align: center;\n",
       "}\n",
       "\n",
       "/* Estimator-specific */\n",
       "#sk-container-id-2 div.sk-estimator {\n",
       "  font-family: monospace;\n",
       "  border: 1px dotted var(--sklearn-color-border-box);\n",
       "  border-radius: 0.25em;\n",
       "  box-sizing: border-box;\n",
       "  margin-bottom: 0.5em;\n",
       "  /* unfitted */\n",
       "  background-color: var(--sklearn-color-unfitted-level-0);\n",
       "}\n",
       "\n",
       "#sk-container-id-2 div.sk-estimator.fitted {\n",
       "  /* fitted */\n",
       "  background-color: var(--sklearn-color-fitted-level-0);\n",
       "}\n",
       "\n",
       "/* on hover */\n",
       "#sk-container-id-2 div.sk-estimator:hover {\n",
       "  /* unfitted */\n",
       "  background-color: var(--sklearn-color-unfitted-level-2);\n",
       "}\n",
       "\n",
       "#sk-container-id-2 div.sk-estimator.fitted:hover {\n",
       "  /* fitted */\n",
       "  background-color: var(--sklearn-color-fitted-level-2);\n",
       "}\n",
       "\n",
       "/* Specification for estimator info (e.g. \"i\" and \"?\") */\n",
       "\n",
       "/* Common style for \"i\" and \"?\" */\n",
       "\n",
       ".sk-estimator-doc-link,\n",
       "a:link.sk-estimator-doc-link,\n",
       "a:visited.sk-estimator-doc-link {\n",
       "  float: right;\n",
       "  font-size: smaller;\n",
       "  line-height: 1em;\n",
       "  font-family: monospace;\n",
       "  background-color: var(--sklearn-color-background);\n",
       "  border-radius: 1em;\n",
       "  height: 1em;\n",
       "  width: 1em;\n",
       "  text-decoration: none !important;\n",
       "  margin-left: 0.5em;\n",
       "  text-align: center;\n",
       "  /* unfitted */\n",
       "  border: var(--sklearn-color-unfitted-level-1) 1pt solid;\n",
       "  color: var(--sklearn-color-unfitted-level-1);\n",
       "}\n",
       "\n",
       ".sk-estimator-doc-link.fitted,\n",
       "a:link.sk-estimator-doc-link.fitted,\n",
       "a:visited.sk-estimator-doc-link.fitted {\n",
       "  /* fitted */\n",
       "  border: var(--sklearn-color-fitted-level-1) 1pt solid;\n",
       "  color: var(--sklearn-color-fitted-level-1);\n",
       "}\n",
       "\n",
       "/* On hover */\n",
       "div.sk-estimator:hover .sk-estimator-doc-link:hover,\n",
       ".sk-estimator-doc-link:hover,\n",
       "div.sk-label-container:hover .sk-estimator-doc-link:hover,\n",
       ".sk-estimator-doc-link:hover {\n",
       "  /* unfitted */\n",
       "  background-color: var(--sklearn-color-unfitted-level-3);\n",
       "  color: var(--sklearn-color-background);\n",
       "  text-decoration: none;\n",
       "}\n",
       "\n",
       "div.sk-estimator.fitted:hover .sk-estimator-doc-link.fitted:hover,\n",
       ".sk-estimator-doc-link.fitted:hover,\n",
       "div.sk-label-container:hover .sk-estimator-doc-link.fitted:hover,\n",
       ".sk-estimator-doc-link.fitted:hover {\n",
       "  /* fitted */\n",
       "  background-color: var(--sklearn-color-fitted-level-3);\n",
       "  color: var(--sklearn-color-background);\n",
       "  text-decoration: none;\n",
       "}\n",
       "\n",
       "/* Span, style for the box shown on hovering the info icon */\n",
       ".sk-estimator-doc-link span {\n",
       "  display: none;\n",
       "  z-index: 9999;\n",
       "  position: relative;\n",
       "  font-weight: normal;\n",
       "  right: .2ex;\n",
       "  padding: .5ex;\n",
       "  margin: .5ex;\n",
       "  width: min-content;\n",
       "  min-width: 20ex;\n",
       "  max-width: 50ex;\n",
       "  color: var(--sklearn-color-text);\n",
       "  box-shadow: 2pt 2pt 4pt #999;\n",
       "  /* unfitted */\n",
       "  background: var(--sklearn-color-unfitted-level-0);\n",
       "  border: .5pt solid var(--sklearn-color-unfitted-level-3);\n",
       "}\n",
       "\n",
       ".sk-estimator-doc-link.fitted span {\n",
       "  /* fitted */\n",
       "  background: var(--sklearn-color-fitted-level-0);\n",
       "  border: var(--sklearn-color-fitted-level-3);\n",
       "}\n",
       "\n",
       ".sk-estimator-doc-link:hover span {\n",
       "  display: block;\n",
       "}\n",
       "\n",
       "/* \"?\"-specific style due to the `<a>` HTML tag */\n",
       "\n",
       "#sk-container-id-2 a.estimator_doc_link {\n",
       "  float: right;\n",
       "  font-size: 1rem;\n",
       "  line-height: 1em;\n",
       "  font-family: monospace;\n",
       "  background-color: var(--sklearn-color-background);\n",
       "  border-radius: 1rem;\n",
       "  height: 1rem;\n",
       "  width: 1rem;\n",
       "  text-decoration: none;\n",
       "  /* unfitted */\n",
       "  color: var(--sklearn-color-unfitted-level-1);\n",
       "  border: var(--sklearn-color-unfitted-level-1) 1pt solid;\n",
       "}\n",
       "\n",
       "#sk-container-id-2 a.estimator_doc_link.fitted {\n",
       "  /* fitted */\n",
       "  border: var(--sklearn-color-fitted-level-1) 1pt solid;\n",
       "  color: var(--sklearn-color-fitted-level-1);\n",
       "}\n",
       "\n",
       "/* On hover */\n",
       "#sk-container-id-2 a.estimator_doc_link:hover {\n",
       "  /* unfitted */\n",
       "  background-color: var(--sklearn-color-unfitted-level-3);\n",
       "  color: var(--sklearn-color-background);\n",
       "  text-decoration: none;\n",
       "}\n",
       "\n",
       "#sk-container-id-2 a.estimator_doc_link.fitted:hover {\n",
       "  /* fitted */\n",
       "  background-color: var(--sklearn-color-fitted-level-3);\n",
       "}\n",
       "</style><div id=\"sk-container-id-2\" class=\"sk-top-container\"><div class=\"sk-text-repr-fallback\"><pre>Pipeline(steps=[(&#x27;polynomialfeatures&#x27;,\n",
       "                 PolynomialFeatures(degree=10, include_bias=False)),\n",
       "                (&#x27;linearregression&#x27;, LinearRegression())])</pre><b>In a Jupyter environment, please rerun this cell to show the HTML representation or trust the notebook. <br />On GitHub, the HTML representation is unable to render, please try loading this page with nbviewer.org.</b></div><div class=\"sk-container\" hidden><div class=\"sk-item sk-dashed-wrapped\"><div class=\"sk-label-container\"><div class=\"sk-label  sk-toggleable\"><input class=\"sk-toggleable__control sk-hidden--visually\" id=\"sk-estimator-id-4\" type=\"checkbox\" ><label for=\"sk-estimator-id-4\" class=\"sk-toggleable__label  sk-toggleable__label-arrow\"><div><div>Pipeline</div></div><div><a class=\"sk-estimator-doc-link \" rel=\"noreferrer\" target=\"_blank\" href=\"https://scikit-learn.org/1.6/modules/generated/sklearn.pipeline.Pipeline.html\">?<span>Documentation for Pipeline</span></a><span class=\"sk-estimator-doc-link \">i<span>Not fitted</span></span></div></label><div class=\"sk-toggleable__content \"><pre>Pipeline(steps=[(&#x27;polynomialfeatures&#x27;,\n",
       "                 PolynomialFeatures(degree=10, include_bias=False)),\n",
       "                (&#x27;linearregression&#x27;, LinearRegression())])</pre></div> </div></div><div class=\"sk-serial\"><div class=\"sk-item\"><div class=\"sk-estimator  sk-toggleable\"><input class=\"sk-toggleable__control sk-hidden--visually\" id=\"sk-estimator-id-5\" type=\"checkbox\" ><label for=\"sk-estimator-id-5\" class=\"sk-toggleable__label  sk-toggleable__label-arrow\"><div><div>PolynomialFeatures</div></div><div><a class=\"sk-estimator-doc-link \" rel=\"noreferrer\" target=\"_blank\" href=\"https://scikit-learn.org/1.6/modules/generated/sklearn.preprocessing.PolynomialFeatures.html\">?<span>Documentation for PolynomialFeatures</span></a></div></label><div class=\"sk-toggleable__content \"><pre>PolynomialFeatures(degree=10, include_bias=False)</pre></div> </div></div><div class=\"sk-item\"><div class=\"sk-estimator  sk-toggleable\"><input class=\"sk-toggleable__control sk-hidden--visually\" id=\"sk-estimator-id-6\" type=\"checkbox\" ><label for=\"sk-estimator-id-6\" class=\"sk-toggleable__label  sk-toggleable__label-arrow\"><div><div>LinearRegression</div></div><div><a class=\"sk-estimator-doc-link \" rel=\"noreferrer\" target=\"_blank\" href=\"https://scikit-learn.org/1.6/modules/generated/sklearn.linear_model.LinearRegression.html\">?<span>Documentation for LinearRegression</span></a></div></label><div class=\"sk-toggleable__content \"><pre>LinearRegression()</pre></div> </div></div></div></div></div></div>"
      ],
      "text/plain": [
       "Pipeline(steps=[('polynomialfeatures',\n",
       "                 PolynomialFeatures(degree=10, include_bias=False)),\n",
       "                ('linearregression', LinearRegression())])"
      ]
     },
     "execution_count": 47,
     "metadata": {},
     "output_type": "execute_result"
    }
   ],
   "source": [
    "from sklearn.pipeline import make_pipeline\n",
    "\n",
    "polyreg = make_pipeline(\n",
    "    PolynomialFeatures(degree=10, include_bias=False),\n",
    "    LinearRegression()\n",
    ")\n",
    "\n",
    "polyreg"
   ]
  },
  {
   "cell_type": "code",
   "execution_count": 67,
   "metadata": {},
   "outputs": [
    {
     "data": {
      "image/png": "[encoded data removed]",
      "text/plain": [
       "<Figure size 640x480 with 1 Axes>"
      ]
     },
     "metadata": {},
     "output_type": "display_data"
    }
   ],
   "source": [
    "trainsizes, trainscores, validscores = learning_curve(\n",
    "    polyreg, x,y, train_sizes=np.linspace(0.01, 1.0, 40), cv=5, \n",
    "    scoring='neg_root_mean_squared_error'\n",
    ")\n",
    "\n",
    "plt.plot(trainsizes, trainscores, 'r-+', linewidth=2, label='Training error')\n",
    "plt.plot(trainsizes, validscores,'b-', linewidth=3, label='validation error')\n",
    "\n",
    "plt.legend()\n",
    "plt.ylabel('rmse')\n",
    "plt.xlabel('training set size')\n",
    "plt.show()\n",
    "\n"
   ]
  },
  {
   "cell_type": "markdown",
   "metadata": {},
   "source": [
    "* **One way to improve an overfitting model is to feed it more training\n",
    "data until the validation error reaches the training error.**\n"
   ]
  },
  {
   "attachments": {
    "image.png": {
     "image/png": "[encoded data removed]"
    }
   },
   "cell_type": "markdown",
   "metadata": {},
   "source": [
    "# <a id='toc7_'></a>[Bias, Variance, Irreducible error](#toc0_)\n",
    "\n",
    "* A high bias model is most likely to underfit the training data\n",
    "* A model with many degrees of freedom is likely to have high variance and thus overfith the training data\n",
    "* Irreducible error: is due to the noisiness of the data itself.\n",
    "  * The only way to reduce this part of the error is clean up the data.\n",
    "\n",
    "![image.png](attachment:image.png)"
   ]
  },
  {
   "cell_type": "markdown",
   "metadata": {},
   "source": [
    "# <a id='toc8_'></a>[Regularized Linear Models](#toc0_)\n",
    "\n",
    "* a good way to reduce overfitting is to regularize the model  the fewer degrees of freedom it has,\\\n",
    "the harder it will be for it to overfit the data. A simple way to regularize a polynomial model is to reduce\\\n",
    "the number of polynomial degrees."
   ]
  },
  {
   "cell_type": "markdown",
   "metadata": {},
   "source": [
    "# <a id='toc9_'></a>[Ridge Regression](#toc0_)\n",
    "* A regularization term is added to the MSE\n",
    "* This forces the learning algorithm to not only fit the data but also keep the model weights\\\n",
    "as small as possible. \n",
    "* The hyperparameter α controls how much you want to regularize the model. \n",
    "* If α = 0, then ridge regression is just linear regression. If α is very large, then all weights\\\n",
    "end up very close to zero and the result is a flat line going through the data’s mean.\n",
    "\n",
    "![image.png](attachment:image.png)\n",
    "\n",
    "* **t is important to scale the data (e.g., using a StandardScaler)\\\n",
    "before performing ridge regression, as it is sensitive to the scale of\\\n",
    "the input features. This is true of most regularized models.**"
   ]
  },
  {
   "cell_type": "code",
   "execution_count": 52,
   "metadata": {},
   "outputs": [
    {
     "data": {
      "text/plain": [
       "array([5.08852693])"
      ]
     },
     "execution_count": 52,
     "metadata": {},
     "output_type": "execute_result"
    }
   ],
   "source": [
    "# ridge regression\n",
    "\n",
    "from sklearn.linear_model import Ridge\n",
    "ridgereg = Ridge(alpha=0.1, solver='cholesky')\n",
    "ridgereg.fit(x,y)\n",
    "ridgereg.predict([[1.5]])"
   ]
  },
  {
   "cell_type": "code",
   "execution_count": 53,
   "metadata": {},
   "outputs": [
    {
     "data": {
      "text/plain": [
       "array([5.09289414])"
      ]
     },
     "execution_count": 53,
     "metadata": {},
     "output_type": "execute_result"
    }
   ],
   "source": [
    "# using stochastic gradient descent as ridge regression\n",
    "\n",
    "sgd_reg = SGDRegressor(penalty='l2',alpha=0.1/m, tol=None,\n",
    "                       max_iter=1000, eta0=0.01, random_state=42)\n",
    "\n",
    "sgd_reg.fit(x, y.ravel()) # y.ravel() becasue fit() expects 1D targets\n",
    "sgd_reg.predict([[1.5]])"
   ]
  },
  {
   "cell_type": "markdown",
   "metadata": {},
   "source": [
    "* The RidgeCV class also performs ridge regression, but it automatically tunes \n",
    "hyperparameters using cross-validation. \n",
    "* It’s roughly equivalent to using GridSearchCV, but it’s optimized for ridge\\\n",
    "regression and runs much faster. Several other estimators (mostly\\\n",
    "linear) also have efficient CV variants, such as LassoCV and\n",
    "ElasticNetCV."
   ]
  },
  {
   "cell_type": "markdown",
   "metadata": {},
   "source": [
    "# <a id='toc10_'></a>[Lasso Regression](#toc0_)\n",
    "* just like ridge regression, it adds a regularization term to the cost function,\\\n",
    " but it uses the ℓ1 norm of\n",
    "the weight vector instead of the square of the ℓ2 norm \n",
    "* important characteristic of lasso regression is that it tends to eliminate the weights\\\n",
    "of the least important features (i.e., set them to zero).\n",
    "* lasso regression **automatically** performs feature selection and outputs a sparse model\\\n",
    "with few nonzero feature weights."
   ]
  },
  {
   "cell_type": "code",
   "execution_count": null,
   "metadata": {},
   "outputs": [
    {
     "data": {
      "text/plain": [
       "array([5.04288823])"
      ]
     },
     "execution_count": 55,
     "metadata": {},
     "output_type": "execute_result"
    }
   ],
   "source": [
    "from sklearn.linear_model import Lasso\n",
    "\n",
    "lassoreg = Lasso(alpha=0.1)\n",
    "lassoreg.fit(x,y)\n",
    "lassoreg.predict([[1.5]])"
   ]
  },
  {
   "cell_type": "markdown",
   "metadata": {},
   "source": [
    "# <a id='toc11_'></a>[Early Stopping](#toc0_)\n",
    "* A very different way to regularize iterative learning algorithms such as gradient\\\n",
    "descent is to stop training as soon as the validation error reaches a minimum. \n",
    "* With stochastic and mini-batch gradient descent, the curves are\\\n",
    "not so smooth, and it may be hard to know whether you have\\\n",
    "reached the minimum or not. **One solution is to stop only after the\\\n",
    "validation error has been above the minimum for some time, then roll\\\n",
    "back the model parameters to the point where the validation error\n",
    "was at a minimum.**"
   ]
  },
  {
   "cell_type": "code",
   "execution_count": null,
   "metadata": {},
   "outputs": [],
   "source": [
    "# from copy import deepcopy\n",
    "# from sklearn.metrics import mean_squared_error\n",
    "# from sklearn.preprocessing import StandardScaler\n",
    "# from sklearn.model_selection import train_test_split\n",
    "\n",
    "# m = 100\n",
    "# x = 6 * np.random.rand(m,1) - 3\n",
    "# y = 0.5 * x ** 2 + x + 2 + np.random.randn(m,1)\n",
    "\n",
    "# xtrain, ytrain, xvalid, yvalid = train_test_split(x,y, test_size=0.2, random_state=RS)\n",
    "\n",
    "# preprocessing= make_pipeline(PolynomialFeatures(degree=90, include_bias=False),\n",
    "#                              StandardScaler())\n",
    "# xtrainprep = preprocessing.fit_transform(xtrain)\n",
    "# xvalidprep = preprocessing.transform(xvalid)\n",
    "\n",
    "# sgd_reg = SGDRegressor(penalty=None, eta0=0.002, random_state=RS)\n",
    "# nepochs = 500\n",
    "# bestvalidrmse = float('inf')\n",
    "\n",
    "# for epoch in range(n_epochs):\n",
    "#     sgd_reg.partial_fit(xtrainprep, ytrain    )\n",
    "#     yvalidpredict = sgd_reg.predict(xvalidprep)\n",
    "#     valerror = mean_squared_error(yvalid, yvalidpredict, squared=False)\n",
    "#     if valerror < bestvalidrmse:\n",
    "#         bestvalidrmse = valerror\n",
    "#         bestmodel = deepcopy(sgd_reg)"
   ]
  },
  {
   "cell_type": "markdown",
   "metadata": {},
   "source": [
    "# <a id='toc12_'></a>[Logistic Regression](#toc0_)\n",
    "\n",
    "*  Logistic regression (also called logit regression) is commonly used to\\\n",
    "estimate the probability that an instance belongs to a particular class\n",
    "\n",
    "![image.png](attachment:image.png)\n",
    "\n",
    "* The score t is often called the logit. \n",
    "* ![image-2.png](attachment:image-2.png)"
   ]
  },
  {
   "cell_type": "markdown",
   "metadata": {},
   "source": [
    "## <a id='toc12_1_'></a>[Decision Boundaries](#toc0_)"
   ]
  },
  {
   "cell_type": "code",
   "execution_count": 57,
   "metadata": {},
   "outputs": [
    {
     "data": {
      "text/plain": [
       "['data',\n",
       " 'target',\n",
       " 'frame',\n",
       " 'target_names',\n",
       " 'DESCR',\n",
       " 'feature_names',\n",
       " 'filename',\n",
       " 'data_module']"
      ]
     },
     "execution_count": 57,
     "metadata": {},
     "output_type": "execute_result"
    }
   ],
   "source": [
    "from sklearn.datasets import load_iris\n",
    "iris = load_iris(as_frame=True)\n",
    "list(iris)"
   ]
  },
  {
   "cell_type": "code",
   "execution_count": 58,
   "metadata": {},
   "outputs": [
    {
     "data": {
      "text/html": [
       "<div>\n",
       "<style scoped>\n",
       "    .dataframe tbody tr th:only-of-type {\n",
       "        vertical-align: middle;\n",
       "    }\n",
       "\n",
       "    .dataframe tbody tr th {\n",
       "        vertical-align: top;\n",
       "    }\n",
       "\n",
       "    .dataframe thead th {\n",
       "        text-align: right;\n",
       "    }\n",
       "</style>\n",
       "<table border=\"1\" class=\"dataframe\">\n",
       "  <thead>\n",
       "    <tr style=\"text-align: right;\">\n",
       "      <th></th>\n",
       "      <th>sepal length (cm)</th>\n",
       "      <th>sepal width (cm)</th>\n",
       "      <th>petal length (cm)</th>\n",
       "      <th>petal width (cm)</th>\n",
       "    </tr>\n",
       "  </thead>\n",
       "  <tbody>\n",
       "    <tr>\n",
       "      <th>0</th>\n",
       "      <td>5.1</td>\n",
       "      <td>3.5</td>\n",
       "      <td>1.4</td>\n",
       "      <td>0.2</td>\n",
       "    </tr>\n",
       "    <tr>\n",
       "      <th>1</th>\n",
       "      <td>4.9</td>\n",
       "      <td>3.0</td>\n",
       "      <td>1.4</td>\n",
       "      <td>0.2</td>\n",
       "    </tr>\n",
       "    <tr>\n",
       "      <th>2</th>\n",
       "      <td>4.7</td>\n",
       "      <td>3.2</td>\n",
       "      <td>1.3</td>\n",
       "      <td>0.2</td>\n",
       "    </tr>\n",
       "    <tr>\n",
       "      <th>3</th>\n",
       "      <td>4.6</td>\n",
       "      <td>3.1</td>\n",
       "      <td>1.5</td>\n",
       "      <td>0.2</td>\n",
       "    </tr>\n",
       "    <tr>\n",
       "      <th>4</th>\n",
       "      <td>5.0</td>\n",
       "      <td>3.6</td>\n",
       "      <td>1.4</td>\n",
       "      <td>0.2</td>\n",
       "    </tr>\n",
       "  </tbody>\n",
       "</table>\n",
       "</div>"
      ],
      "text/plain": [
       "   sepal length (cm)  sepal width (cm)  petal length (cm)  petal width (cm)\n",
       "0                5.1               3.5                1.4               0.2\n",
       "1                4.9               3.0                1.4               0.2\n",
       "2                4.7               3.2                1.3               0.2\n",
       "3                4.6               3.1                1.5               0.2\n",
       "4                5.0               3.6                1.4               0.2"
      ]
     },
     "execution_count": 58,
     "metadata": {},
     "output_type": "execute_result"
    }
   ],
   "source": [
    "iris.data.head(5)"
   ]
  },
  {
   "cell_type": "code",
   "execution_count": 68,
   "metadata": {},
   "outputs": [],
   "source": [
    "from sklearn.linear_model import LogisticRegression\n",
    "\n",
    "x = iris.data[['petal width (cm)']].values\n",
    "y = iris.target_names[iris.target]  == 'virginica'\n",
    "\n"
   ]
  },
  {
   "cell_type": "code",
   "execution_count": null,
   "metadata": {},
   "outputs": [
    {
     "data": {
      "image/png": "[encoded data removed]",
      "text/plain": [
       "<Figure size 640x480 with 1 Axes>"
      ]
     },
     "metadata": {},
     "output_type": "display_data"
    }
   ],
   "source": [
    "xtrain, xtest, ytrain, ytest = train_test_split(x, y, random_state=RS)\n",
    "\n",
    "logreg = LogisticRegression(random_state=RS)\n",
    "logreg.fit(xtrain, ytrain)\n",
    "\n",
    "\n",
    "xnew = np.linspace(0,3,1000).reshape(-1,1)\n",
    "yproba = logreg.predict_proba(xnew)\n",
    "\n",
    "decision_boundary = xnew[yproba[:, 1] >= 0.5][0,0]\n",
    "\n",
    "plt.plot(xnew, yproba[:,0], 'b--', linewidth=2,\n",
    "         label='not iris virginica proba')\n",
    "plt.plot(xnew, yproba[:,1], 'g--', linewidth=2, label='iris virginica proba')\n",
    "plt.plot([decision_boundary, decision_boundary], [0, 1], 'k:', linewidth=2, label='Decision boundary')\n",
    "plt.xlabel('petal widht cm')\n",
    "plt.ylabel('probability')\n",
    "plt.show()"
   ]
  },
  {
   "cell_type": "markdown",
   "metadata": {},
   "source": [
    "# <a id='toc13_'></a>[Softmax Regression](#toc0_)\n",
    "\n",
    "* logistic regression model can be generalized to support multiple classes directly,\n",
    "* is called softmax regression, or multinomial logistic regression.\n",
    "* The softmax regression classifier predicts only one class at a time\\\n",
    "**(i.e., it is multiclass, not multioutput)**, so it should be used only\\\n",
    "with mutually exclusive classes, such as different species of plants.\\\n",
    "You cannot use it to recognize multiple people in one picture."
   ]
  },
  {
   "cell_type": "code",
   "execution_count": null,
   "metadata": {},
   "outputs": [
    {
     "data": {
      "text/plain": [
       "(array([2]), array([[0.    , 0.0475, 0.9525]]))"
      ]
     },
     "execution_count": 66,
     "metadata": {},
     "output_type": "execute_result"
    }
   ],
   "source": [
    "# use softmax to classify the iris plants into all three classes\n",
    "\n",
    "x = iris.data[[\"petal length (cm)\", \"petal width (cm)\"]].values\n",
    "y = iris['target']\n",
    "\n",
    "xtrain, xtest, ytrain, ytest = train_test_split(x, y, random_state=RS)\n",
    "\n",
    "sfotmaxreg = LogisticRegression(C=30, random_state=RS)\n",
    "sfotmaxreg.fit(xtrain, ytrain)\n",
    "\n",
    "sfotmaxreg.predict([[5,2]]),sfotmaxreg.predict_proba([[5,2]]).round(4)\n",
    "\n",
    "\n"
   ]
  },
  {
   "cell_type": "markdown",
   "metadata": {},
   "source": [
    "# <a id='toc14_'></a>[Exercises](#toc0_)\n",
    "https://colab.research.google.com/github/ageron/handson-ml3/blob/main/04_training_linear_models.ipynb#scrollTo=Kqi_J4WLMQFp "
   ]
  },
  {
   "cell_type": "markdown",
   "metadata": {},
   "source": [
    "9. Suppose you are using ridge regression and you notice that the training error\\\n",
    "and the validation error are almost equal and fairly high. Would you say that\\\n",
    "the model suffers from high bias or high variance? Should you increase the\n",
    "regularization hyperparameter α or reduce it?\n",
    "  * If both the training error and the validation error are almost equal and fairly high,\\\n",
    "   the model is likely underfitting the training set, which means it has a high bias. You should try reducing the regularization hyperparameter α."
   ]
  },
  {
   "cell_type": "markdown",
   "metadata": {},
   "source": [
    "12. Implement batch gradient descent with early stopping for softmax regression\\\n",
    "without using Scikit-Learn, only NumPy. Use it on a classification task such as\n",
    "the iris dataset."
   ]
  },
  {
   "cell_type": "code",
   "execution_count": 120,
   "metadata": {},
   "outputs": [],
   "source": [
    "x = iris.data[[\"petal length (cm)\", \"petal width (cm)\"]].values\n",
    "y = iris['target']\n",
    "\n",
    "# add bias term x0=1 to x\n",
    "# x_with_bias = np.c_[np.ones(len(x)),x]\n",
    "ones_np = np.ones((len(x),1)) # create a 2D array of ones\n",
    "x_with_bias = np.concatenate( ( ones_np, x), axis=1) # concatenate along axis 1\n",
    "\n",
    "# splitting data into test and valid, train using numpy\n",
    "\n",
    "test_ratio = 0.2\n",
    "valid_ratio = 0.2\n",
    "total_size = len(x_with_bias)\n",
    "\n",
    "test_size = int(total_size*test_ratio)\n",
    "valid_size = int(total_size*valid_ratio)\n",
    "train_size = total_size - test_size - valid_size\n",
    "\n",
    "rand_indces = np.random.permutation(total_size)\n",
    "\n",
    "xtrain = x_with_bias[rand_indces[:train_size]]\n",
    "ytrain = y[rand_indces[:train_size]]\n",
    "xvalid = x_with_bias[rand_indces[train_size:-test_size]]\n",
    "yvalid = y[rand_indces[train_size:-test_size]]\n",
    "xtest = x_with_bias[rand_indces[-test_size:]]\n",
    "ytest = y[rand_indces[-test_size:]]\n",
    "\n",
    "# convert y into one-hot encoding using numpy\n",
    "def to_one_hot(valu):\n",
    "    return np.diag(np.ones(valu.max() +  1))[valu]\n",
    "\n",
    "ytrain_onehot = to_one_hot(ytrain)\n",
    "yvalid_onehot = to_one_hot(yvalid)\n",
    "ytest_onehot = to_one_hot(ytest)\n",
    "\n",
    "\n",
    "# xtrain, xtest, ytrain, ytest = train_test_split(x, y, random_state=RS)\n",
    "\n",
    "# ## only using numpy\n",
    "# ## softmax regression, batch gradient descent, early stopping\n",
    "\n",
    "# learning_rate =0.01\n",
    "# n_epochs = 100\n",
    "# n_instances = len(x)\n",
    "\n",
    "# theta = np.random.randn(2,1)\n",
    "# best_valid_score = float('inf')\n",
    "\n",
    "# for epoch in range(n_epochs):\n",
    "#     model=1\n",
    "#     val_error = 0\n",
    "#     if val_error < best_valid_score:\n",
    "#         best_valid_score = val_error\n",
    "#         best_model = deepcopy(model)\n",
    "\n"
   ]
  },
  {
   "cell_type": "code",
   "execution_count": 121,
   "metadata": {},
   "outputs": [
    {
     "data": {
      "text/plain": [
       "array([1., 1., 1.])"
      ]
     },
     "execution_count": 121,
     "metadata": {},
     "output_type": "execute_result"
    }
   ],
   "source": [
    "np.ones(y.max()+1)"
   ]
  },
  {
   "cell_type": "code",
   "execution_count": 127,
   "metadata": {},
   "outputs": [
    {
     "data": {
      "text/plain": [
       "array([1., 1., 1.])"
      ]
     },
     "execution_count": 127,
     "metadata": {},
     "output_type": "execute_result"
    }
   ],
   "source": [
    "(np.ones((ytrain[:10]).max() +1))#[(ytrain[:10])]"
   ]
  },
  {
   "cell_type": "code",
   "execution_count": 128,
   "metadata": {},
   "outputs": [
    {
     "data": {
      "text/plain": [
       "[array([0, 1, 1, 2, 2])]"
      ]
     },
     "execution_count": 128,
     "metadata": {},
     "output_type": "execute_result"
    }
   ],
   "source": [
    "[(ytrain[:5]).values]"
   ]
  },
  {
   "cell_type": "code",
   "execution_count": 125,
   "metadata": {},
   "outputs": [
    {
     "data": {
      "text/plain": [
       "array([[1, 0, 0],\n",
       "       [0, 1, 0],\n",
       "       [0, 1, 0]])"
      ]
     },
     "execution_count": 125,
     "metadata": {},
     "output_type": "execute_result"
    }
   ],
   "source": [
    "np.diag((1,1,1))[(ytrain[:3]).values]"
   ]
  },
  {
   "cell_type": "code",
   "execution_count": 124,
   "metadata": {},
   "outputs": [
    {
     "data": {
      "text/plain": [
       "array([[0., 1., 0.],\n",
       "       [0., 0., 1.],\n",
       "       [0., 1., 0.],\n",
       "       [1., 0., 0.],\n",
       "       [0., 0., 1.],\n",
       "       [0., 1., 0.],\n",
       "       [0., 1., 0.],\n",
       "       [0., 0., 1.],\n",
       "       [0., 0., 1.],\n",
       "       [1., 0., 0.],\n",
       "       [0., 1., 0.],\n",
       "       [0., 0., 1.],\n",
       "       [0., 0., 1.],\n",
       "       [0., 1., 0.],\n",
       "       [1., 0., 0.],\n",
       "       [1., 0., 0.],\n",
       "       [1., 0., 0.],\n",
       "       [0., 0., 1.],\n",
       "       [1., 0., 0.],\n",
       "       [1., 0., 0.],\n",
       "       [0., 0., 1.],\n",
       "       [0., 1., 0.],\n",
       "       [0., 1., 0.],\n",
       "       [0., 0., 1.],\n",
       "       [1., 0., 0.],\n",
       "       [0., 1., 0.],\n",
       "       [0., 0., 1.],\n",
       "       [0., 1., 0.],\n",
       "       [1., 0., 0.],\n",
       "       [0., 1., 0.]])"
      ]
     },
     "execution_count": 124,
     "metadata": {},
     "output_type": "execute_result"
    }
   ],
   "source": [
    "ytest_onehot"
   ]
  },
  {
   "cell_type": "code",
   "execution_count": null,
   "metadata": {},
   "outputs": [],
   "source": []
  },
  {
   "cell_type": "code",
   "execution_count": null,
   "metadata": {},
   "outputs": [],
   "source": []
  },
  {
   "cell_type": "code",
   "execution_count": null,
   "metadata": {},
   "outputs": [],
   "source": []
  }
 ],
 "metadata": {
  "kernelspec": {
   "display_name": "Python 3",
   "language": "python",
   "name": "python3"
  },
  "language_info": {
   "codemirror_mode": {
    "name": "ipython",
    "version": 3
   },
   "file_extension": ".py",
   "mimetype": "text/x-python",
   "name": "python",
   "nbconvert_exporter": "python",
   "pygments_lexer": "ipython3",
   "version": "3.10.1"
  }
 },
 "nbformat": 4,
 "nbformat_minor": 2
}
