{
 "cells": [
  {
   "cell_type": "markdown",
   "metadata": {},
   "source": [
    "# Notes / Summary\n",
    "1. ANNs are at the very core of deep learning. They are versatile, powerfule, and scalabel,\\\n",
    " making them ideal to tackle large and highly complex machine leanring tasks such as classifying billions of images e.g. google images.\n",
    "2. ANNS, 1943, by neurophysiologist Warren McCulloch and mathematician Walter Pitts.\n",
    "3. First paper \"a logical calculus of Ideas Immanenet in Nervous Activity\", presented a simplified \\\n",
    "computational model of how biological neurons might work together in animal brains tom perform complex \\\n",
    "computations using propositional logic,\n",
    "4. This is the first artificial neural network architecture\n",
    "5. The early success of ANN continued till 1960s, later ANN entered long winter, in 1980 revied due to\\\n",
    " new architectures later 1990 advanced algorithms like SVM came and again ANN went on hold, noww in 2010\\\n",
    "  it came back again into picture.\n",
    "6. ANN this time is different, bcz there is now a huge quantity of data avialble, and tremendous increase \\\n",
    "in computing power(moore's law) , and developments in new architecture's as well."
   ]
  },
  {
   "cell_type": "markdown",
   "metadata": {},
   "source": [
    "# Libraries"
   ]
  },
  {
   "cell_type": "code",
   "execution_count": 1,
   "metadata": {},
   "outputs": [],
   "source": [
    "import numpy as np"
   ]
  },
  {
   "cell_type": "markdown",
   "metadata": {},
   "source": [
    "# Perceptron"
   ]
  },
  {
   "cell_type": "code",
   "execution_count": null,
   "metadata": {},
   "outputs": [],
   "source": []
  },
  {
   "cell_type": "code",
   "execution_count": null,
   "metadata": {},
   "outputs": [],
   "source": []
  },
  {
   "cell_type": "code",
   "execution_count": null,
   "metadata": {},
   "outputs": [],
   "source": []
  },
  {
   "cell_type": "markdown",
   "metadata": {},
   "source": [
    "# End"
   ]
  },
  {
   "cell_type": "code",
   "execution_count": null,
   "metadata": {},
   "outputs": [],
   "source": []
  }
 ],
 "metadata": {
  "kernelspec": {
   "display_name": "Python 3",
   "language": "python",
   "name": "python3"
  },
  "language_info": {
   "codemirror_mode": {
    "name": "ipython",
    "version": 3
   },
   "file_extension": ".py",
   "mimetype": "text/x-python",
   "name": "python",
   "nbconvert_exporter": "python",
   "pygments_lexer": "ipython3",
   "version": "3.10.1"
  }
 },
 "nbformat": 4,
 "nbformat_minor": 2
}
